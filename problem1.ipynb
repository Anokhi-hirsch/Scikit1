{
 "cells": [
  {
   "cell_type": "markdown",
   "metadata": {},
   "source": [
    "### Saving and loading models using pickle"
   ]
  },
  {
   "cell_type": "code",
   "execution_count": 1,
   "metadata": {},
   "outputs": [
    {
     "name": "stdout",
     "output_type": "stream",
     "text": [
      "root mean squared error :  72.11529287182815\n"
     ]
    }
   ],
   "source": [
    "# import packages \n",
    "import pandas as pd \n",
    "import numpy as np \n",
    "import matplotlib.pyplot as plt \n",
    "from sklearn.model_selection import train_test_split \n",
    "from sklearn.linear_model import LinearRegression \n",
    "from sklearn import metrics \n",
    "import pickle \n",
    "  \n",
    "# import the dataset \n",
    "dataset = pd.read_csv('headbrain1.csv') \n",
    "  \n",
    "X = dataset.iloc[:, : -1].values \n",
    "Y = dataset.iloc[:, -1].values \n",
    "  \n",
    "# train test split \n",
    "X_train, X_test, y_train, y_test = train_test_split( \n",
    "    X, Y, test_size=0.2, random_state=0) \n",
    "  \n",
    "# create a linear regression model \n",
    "regressor = LinearRegression() \n",
    "regressor.fit(X_train, y_train) \n",
    "  \n",
    "  \n",
    "# save the model \n",
    "filename = 'linear_model.sav'\n",
    "pickle.dump(regressor, open(filename, 'wb')) \n",
    "  \n",
    "# load the model \n",
    "load_model = pickle.load(open(filename, 'rb')) \n",
    "  \n",
    "y_pred = load_model.predict(X_test) \n",
    "print('root mean squared error : ', np.sqrt( \n",
    "    metrics.mean_squared_error(y_test, y_pred))) "
   ]
  },
  {
   "cell_type": "markdown",
   "metadata": {},
   "source": [
    "### Saving and loading models using joblib"
   ]
  },
  {
   "cell_type": "code",
   "execution_count": 2,
   "metadata": {},
   "outputs": [
    {
     "name": "stdout",
     "output_type": "stream",
     "text": [
      "root mean squared error :  72.11529287182815\n"
     ]
    }
   ],
   "source": [
    "# import packages \n",
    "import pandas as pd \n",
    "import numpy as np \n",
    "import matplotlib.pyplot as plt \n",
    "from sklearn.model_selection import train_test_split \n",
    "from sklearn.linear_model import LinearRegression \n",
    "from sklearn import metrics \n",
    "import joblib \n",
    "  \n",
    "# import the dataset \n",
    "dataset = pd.read_csv('headbrain1.csv') \n",
    "  \n",
    "X = dataset.iloc[:, : -1].values \n",
    "Y = dataset.iloc[:, -1].values \n",
    "  \n",
    "# train test split \n",
    "X_train, X_test, y_train, y_test = train_test_split( \n",
    "    X, Y, test_size=0.2, random_state=0) \n",
    "  \n",
    "# create a linear regression model \n",
    "regressor = LinearRegression() \n",
    "regressor.fit(X_train, y_train) \n",
    "  \n",
    "  \n",
    "# save the model \n",
    "filename = 'linear_model_2.sav'\n",
    "joblib.dump(regressor, open(filename, 'wb')) \n",
    "  \n",
    "# load the model \n",
    "load_model = joblib.load(open(filename, 'rb')) \n",
    "  \n",
    "y_pred = load_model.predict(X_test) \n",
    "print('root mean squared error : ', np.sqrt( \n",
    "    metrics.mean_squared_error(y_test, y_pred))) "
   ]
  }
 ],
 "metadata": {
  "kernelspec": {
   "display_name": "base",
   "language": "python",
   "name": "python3"
  },
  "language_info": {
   "codemirror_mode": {
    "name": "ipython",
    "version": 3
   },
   "file_extension": ".py",
   "mimetype": "text/x-python",
   "name": "python",
   "nbconvert_exporter": "python",
   "pygments_lexer": "ipython3",
   "version": "3.11.7"
  }
 },
 "nbformat": 4,
 "nbformat_minor": 2
}
